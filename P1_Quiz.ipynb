{
 "cells": [
  {
   "cell_type": "markdown",
   "metadata": {},
   "source": [
    "# 人工智能编程基础纳米学位\n",
    "## 项目知识点练习册\n",
    "### 项目：（P1 机器人走迷宫预备练习题）\n",
    "\n",
    "在这个notebook文件中，我们设计了多项练习题来帮助你为之后的实战项目作准备，并希望可以通过编程练习来帮助你更好地掌握前几周内所学习的内容！\n",
    "​\n",
    "\n",
    "有些模板代码已经提供给你，但你还需要实现更多的功能来完成这个练习。除非有明确要求，你无须修改任何已给出的代码。每一个练习都配有详细的指导，需要实现的部分也会在注释中以'TODO'标出。\n",
    "​\n",
    "\n",
    "除了实现代码外，你还**需要**回答一些与项目及代码相关的问题。每个需要回答的问题都会以 **'问题 X'** 标记。请仔细阅读每个问题，并且在问题后的 **'回答'** 部分写出完整的答案。助教将根据 你对问题的回答 和 撰写代码实现的功能 来对你提交的练习进行评分。\n",
    "​\n",
    "\n",
    ">**提示：**Code 和 Markdown 区域可通过 **Shift + Enter** 快捷键运行。此外，Markdown可以通过双击进入编辑模式。\n",
    "\n",
    "\n",
    "### 让我们开始吧！\n",
    "---"
   ]
  },
  {
   "cell_type": "markdown",
   "metadata": {},
   "source": [
    "### Task 0：数据类型和运算\n",
    "### 问答题\n",
    "**问题**：\n",
    "\n",
    "python有几种基本数据类型，具体是哪些？这些数据类型中哪些是可变的，哪些是不可变的？哪些是有序的，哪些是无序的？"
   ]
  },
  {
   "cell_type": "markdown",
   "metadata": {},
   "source": [
    "**回答**：\n"
   ]
  },
  {
   "cell_type": "markdown",
   "metadata": {},
   "source": [
    "### 任务描述\n",
    "熟悉基本数据类型。\n",
    "\n",
    "### 练习\n",
    "**练习0**\n",
    "\n",
    "新建一个二维列表，列表名定义为matrix，列表的内容如下：\n",
    "\n",
    "第一项：0,1,2\n",
    "\n",
    "第二项：3,4,5\n",
    "\n",
    "第三项：6,7,8\n",
    "\n",
    "注意，二维列表可以当做矩阵来看，某一项为行，某一项中的第几个为列，比如数字1处于matrix列表的第一行第二列，用索引值来看的话就是行0，列1（因为所以是从零开始计数的）。以下都用行列来表示了。"
   ]
  },
  {
   "cell_type": "code",
   "execution_count": 1,
   "metadata": {},
   "outputs": [],
   "source": [
    "### TODO：完成这个列表的创建\n",
    "matrix = #TODO"
   ]
  },
  {
   "cell_type": "markdown",
   "metadata": {},
   "source": [
    "**练习1**\n",
    "\n",
    "使用列表方法给matrix列表新增一项（行），项（行）的内容为bj,gz,sh"
   ]
  },
  {
   "cell_type": "code",
   "execution_count": 3,
   "metadata": {},
   "outputs": [],
   "source": [
    "### TODO：使用字符串方法给matrix列表添加"
   ]
  },
  {
   "cell_type": "markdown",
   "metadata": {},
   "source": [
    "**练习2**\n",
    "\n",
    "1、用代码输出matrix第二行第三列的值（应该为5）\n",
    "\n",
    "2、用代码输出matrix第四行的值（应该输出bj,gz,sh）\n",
    "\n",
    "3、用代码输出matrix的行数和列数(应该输出4和3)"
   ]
  },
  {
   "cell_type": "code",
   "execution_count": 4,
   "metadata": {},
   "outputs": [],
   "source": [
    "matrix_2_3 = #TODO\n",
    "print(matrix_2_3)\n",
    "matrix_row4 = #TODO\n",
    "print(matrix_row4)\n",
    "rows = #TODO\n",
    "cols = #TODO\n",
    "print(rows, cols)"
   ]
  },
  {
   "cell_type": "markdown",
   "metadata": {},
   "source": [
    "**练习3**\n",
    "\n",
    "新建一个字典，字典的名字为loc，将新增的项（bj,gz,sh）分别作为字典的键（key），bj的值（value）为matrix的第一行的和（输出时能看到值为3），gz的值为matrix的第二行的和（输出时能看到值为12），sh的值为matrix的第三行（输出时能看到值为21）。"
   ]
  },
  {
   "cell_type": "code",
   "execution_count": 9,
   "metadata": {},
   "outputs": [],
   "source": [
    "### TODO：新建字典loc，新建时可以使用之前习题所使用的方法，不要重新输入具体的值来创建"
   ]
  },
  {
   "cell_type": "markdown",
   "metadata": {},
   "source": [
    "**练习4**\n",
    "\n",
    "输出字典loc中键sh的值是多少"
   ]
  },
  {
   "cell_type": "code",
   "execution_count": null,
   "metadata": {},
   "outputs": [],
   "source": [
    "### TODO:已知字典key求该key的value值"
   ]
  },
  {
   "cell_type": "markdown",
   "metadata": {},
   "source": [
    "**练习5**\n",
    "\n",
    "字符串连接，连接matrix第四行的所有元素并输出"
   ]
  },
  {
   "cell_type": "code",
   "execution_count": 10,
   "metadata": {},
   "outputs": [],
   "source": [
    "### TODO:"
   ]
  },
  {
   "cell_type": "markdown",
   "metadata": {},
   "source": [
    "---"
   ]
  },
  {
   "cell_type": "markdown",
   "metadata": {},
   "source": [
    "### Task 1：控制流\n",
    "### 问答题\n",
    "**问题 0**：\n",
    "\n",
    "if判断和while后面跟的是什么，或者说什么情况下会进入判断体和循环体（判断循环缩进下的内容）？\n",
    "\n",
    "一个空列表作为if判断或者是while后面跟的东西的话，是否会进入判断体或者循环体（判断循环缩进下的内容）？"
   ]
  },
  {
   "cell_type": "markdown",
   "metadata": {},
   "source": [
    "**回答**："
   ]
  },
  {
   "cell_type": "markdown",
   "metadata": {},
   "source": [
    "**问题 1**：\n",
    "\n",
    "break和continue的区别？"
   ]
  },
  {
   "cell_type": "markdown",
   "metadata": {},
   "source": [
    "**回答**："
   ]
  },
  {
   "cell_type": "markdown",
   "metadata": {},
   "source": [
    "**问题 2**：\n",
    "\n",
    "请简要描述迭代器，生成器和可迭代对象的关系。"
   ]
  },
  {
   "cell_type": "markdown",
   "metadata": {},
   "source": [
    "**回答**："
   ]
  },
  {
   "cell_type": "markdown",
   "metadata": {},
   "source": [
    "### 任务描述\n",
    "针对控制流的练习。\n",
    "\n",
    "### 练习\n",
    "**练习0**\n",
    "\n",
    "循环输出列表matrix的每一个值，每个一行。"
   ]
  },
  {
   "cell_type": "code",
   "execution_count": null,
   "metadata": {},
   "outputs": [],
   "source": [
    "### TODO：循环"
   ]
  },
  {
   "cell_type": "markdown",
   "metadata": {},
   "source": [
    "**练习1**\n",
    "\n",
    "找出数字7所在的索引，输出行列索引，另外要求找到后必须立即停止循环。"
   ]
  },
  {
   "cell_type": "code",
   "execution_count": 12,
   "metadata": {},
   "outputs": [],
   "source": [
    "### TODO：循环判断"
   ]
  },
  {
   "cell_type": "markdown",
   "metadata": {},
   "source": [
    "**练习2**\n",
    "\n",
    "请写一个列表表达式，将matrix中的数据全部提取出来变成一个一维列表merge，最后输出该列表"
   ]
  },
  {
   "cell_type": "code",
   "execution_count": null,
   "metadata": {},
   "outputs": [],
   "source": [
    "merge = #TODO\n",
    "print(merge)"
   ]
  },
  {
   "cell_type": "markdown",
   "metadata": {},
   "source": [
    "---"
   ]
  },
  {
   "cell_type": "markdown",
   "metadata": {},
   "source": [
    "### Task 2：函数\n",
    "### 问答题\n",
    "**问题 0**：\n",
    "\n",
    "解释下return的作用，return了什么？return的东西去了哪里？\n"
   ]
  },
  {
   "cell_type": "markdown",
   "metadata": {},
   "source": [
    "**回答**：\n"
   ]
  },
  {
   "cell_type": "markdown",
   "metadata": {},
   "source": [
    "**问题 1**：\n",
    "\n",
    "代码1、\n",
    "```\n",
    "a = 100\n",
    "def test_score(a):\n",
    "    print(a)\n",
    "test_score(95)\n",
    "```\n",
    "代码2、\n",
    "```\n",
    "a = 100\n",
    "def test_score(a = 90):\n",
    "    print(a)\n",
    "test_score()\n",
    "```\n",
    "代码3、\n",
    "```\n",
    "a = 100\n",
    "def test_score():\n",
    "    print(a)\n",
    "test_score()\n",
    "```\n",
    "这三个代码分别输出什么？同样输出a为什么造成这样的结果，请给于解释造成这个输出结果的的原因。"
   ]
  },
  {
   "cell_type": "markdown",
   "metadata": {},
   "source": [
    "**回答**：\n"
   ]
  },
  {
   "cell_type": "markdown",
   "metadata": {},
   "source": [
    "**问题 2**：\n",
    "代码1、\n",
    "```\n",
    "\n",
    "def test_score(a):\n",
    "    a = 95\n",
    "a = 100\n",
    "test_score(a)\n",
    "print(a)\n",
    "```\n",
    "代码2、\n",
    "```\n",
    "def test_score(a):\n",
    "    a.append(95)\n",
    "a = [100]\n",
    "test_score(a)\n",
    "print(a)\n",
    "```\n",
    "这两个代码分别输出什么？同样传入参数a为什么造成这样的结果，请给于解释造成这个输出结果的的原因。"
   ]
  },
  {
   "cell_type": "markdown",
   "metadata": {},
   "source": [
    "**回答**："
   ]
  },
  {
   "cell_type": "markdown",
   "metadata": {},
   "source": [
    "**问题 3**：\n",
    "\n",
    "定义函数的时候，函数的参数的名字，是否必须跟调用时传入的参数名字相同？大概解释下你的答案。"
   ]
  },
  {
   "cell_type": "markdown",
   "metadata": {},
   "source": [
    "**回答**："
   ]
  },
  {
   "cell_type": "markdown",
   "metadata": {},
   "source": [
    "**问题 4**：\n",
    "\n",
    "请解释下缩进在python中有什么作用。"
   ]
  },
  {
   "cell_type": "markdown",
   "metadata": {},
   "source": [
    "**回答**：\n"
   ]
  },
  {
   "cell_type": "markdown",
   "metadata": {},
   "source": [
    "### 任务描述\n",
    "主要是对函数部分的掌握\n",
    "\n",
    "### 练习\n",
    "**练习0**\n",
    "\n",
    "请写一个函数,函数名：get_index，函数有一个默认参数value，默认值为0，还有一个必须参数mat（是一个二维列表，请务必保证上面练习题中的matrix正确生成并运行过，测试时调用函数要用），该函数的功能是返回value所对应在mat上的索引（不需要考虑value不存在于matrix的情况）"
   ]
  },
  {
   "cell_type": "code",
   "execution_count": null,
   "metadata": {},
   "outputs": [],
   "source": [
    "### TODO：编写题目要求的函数"
   ]
  },
  {
   "cell_type": "code",
   "execution_count": null,
   "metadata": {},
   "outputs": [],
   "source": [
    "print(get_index(matrix))"
   ]
  },
  {
   "cell_type": "code",
   "execution_count": null,
   "metadata": {},
   "outputs": [],
   "source": [
    "print(get_index(matrix, value = 6))"
   ]
  },
  {
   "cell_type": "markdown",
   "metadata": {},
   "source": [
    "**练习1**\n",
    "\n",
    "请写一个函数，函数名：find_max,函数有一个必须参数dicts（是一个字典，请务必保证上面练习题loc字典有正确生成并运行过，测试时调用函数要用），该函数返回参数dicts中value最大的键值。"
   ]
  },
  {
   "cell_type": "code",
   "execution_count": null,
   "metadata": {},
   "outputs": [],
   "source": [
    "### TODO：编写题目要求的函数"
   ]
  },
  {
   "cell_type": "code",
   "execution_count": null,
   "metadata": {},
   "outputs": [],
   "source": [
    "print(find_max(loc))"
   ]
  },
  {
   "cell_type": "markdown",
   "metadata": {},
   "source": [
    "### Task 3：异常处理\n",
    "### 问答题\n",
    "**问题**：\n",
    "\n",
    "请描述下\n",
    "```\n",
    "try:\n",
    "<语句0>        \n",
    "except <名字>：\n",
    "<语句1>              \n",
    "else:\n",
    "<语句3>\n",
    "finally:\n",
    "<语句4>\n",
    "```\n",
    "的运行流程。"
   ]
  },
  {
   "cell_type": "markdown",
   "metadata": {},
   "source": [
    "**回答**："
   ]
  },
  {
   "cell_type": "markdown",
   "metadata": {},
   "source": [
    "**练习**\n",
    "\n",
    "使用异常处理语句，编写一个函数change，该函数有一个输入mat，mat为一个二维列表，函数的功能是将列表中的值是奇数的项置为1，将列表中的值是偶数的项置为0，如果是非数值型内容的项置为字符串error，最后返回这个更改后的字符串。"
   ]
  },
  {
   "cell_type": "code",
   "execution_count": 17,
   "metadata": {},
   "outputs": [],
   "source": [
    "### Todo"
   ]
  },
  {
   "cell_type": "code",
   "execution_count": null,
   "metadata": {},
   "outputs": [],
   "source": [
    "print(change(matrix))"
   ]
  },
  {
   "cell_type": "markdown",
   "metadata": {},
   "source": [
    "---"
   ]
  },
  {
   "cell_type": "markdown",
   "metadata": {},
   "source": [
    "### 思考题：综合\n",
    "### 任务描述\n",
    "复习所有语法，解答此思考题\n",
    "\n",
    "### 练习\n",
    "编写一个函数，输入n为偶数时，调用函数求1/2+1/4+...+1/n,当输入n为奇数时，调用函数求1/1+1/3+...+1/n，如果是非数值型参数时输出\"Error parameter!\"，最后输出相加的结果（如果是非数值型参数不输出）。\n",
    "函数名和参数名不做限制。\n",
    "\n",
    "**提示：**\n",
    "\n",
    "循环判断和异常处理的组合应用"
   ]
  },
  {
   "cell_type": "code",
   "execution_count": null,
   "metadata": {},
   "outputs": [],
   "source": [
    "### TODO：（此处应有TODO内容）"
   ]
  },
  {
   "cell_type": "markdown",
   "metadata": {},
   "source": [
    "**注意: 当你写完了所有的代码，并且回答了所有的问题。你就可以把你的 iPython Notebook 导出成 HTML 文件。你可以在菜单栏，这样导出File -> Download as -> HTML (.html)把这个 HTML 和这个 iPython notebook 一起做为你的作业提交给助教。**"
   ]
  }
 ],
 "metadata": {
  "kernelspec": {
   "display_name": "Python 3",
   "language": "python",
   "name": "python3"
  },
  "language_info": {
   "codemirror_mode": {
    "name": "ipython",
    "version": 3
   },
   "file_extension": ".py",
   "mimetype": "text/x-python",
   "name": "python",
   "nbconvert_exporter": "python",
   "pygments_lexer": "ipython3",
   "version": "3.6.5"
  }
 },
 "nbformat": 4,
 "nbformat_minor": 2
}
